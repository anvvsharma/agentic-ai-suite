{
 "cells": [
  {
   "cell_type": "markdown",
   "id": "e6ff6f48",
   "metadata": {},
   "source": [
    "1. Create a venv\n",
    "2. Create a requirements.next\n",
    "3. install autogen-agentchat "
   ]
  },
  {
   "cell_type": "code",
   "execution_count": null,
   "id": "a178a0ba",
   "metadata": {},
   "outputs": [],
   "source": [
    "pip install autogen-agentchat autogen-core autogen-ext tiktoken openai dotenv\n"
   ]
  },
  {
   "cell_type": "markdown",
   "id": "28a9f807",
   "metadata": {},
   "source": [
    "##### First Autogen Agent"
   ]
  },
  {
   "cell_type": "code",
   "execution_count": 3,
   "id": "3837eafb",
   "metadata": {},
   "outputs": [],
   "source": [
    "import os\n",
    "from autogen_agentchat.agents import AssistantAgent\n",
    "from autogen_ext.models.openai import OpenAIChatCompletionClient\n",
    "from dotenv import load_dotenv\n",
    "\n",
    "load_dotenv()\n",
    "\n",
    "api_key = os.getenv('OPENAI_API_KEY')\n"
   ]
  },
  {
   "cell_type": "markdown",
   "id": "d9783fef",
   "metadata": {},
   "source": [
    "###### Connecting to Model"
   ]
  },
  {
   "cell_type": "code",
   "execution_count": 7,
   "id": "b10b4d0b",
   "metadata": {},
   "outputs": [],
   "source": [
    "model_client = OpenAIChatCompletionClient(model='gpt-4o',api_key=api_key)"
   ]
  },
  {
   "cell_type": "code",
   "execution_count": 5,
   "id": "cc1771d0",
   "metadata": {},
   "outputs": [],
   "source": [
    "agent_1 = AssistantAgent(name='my_assistant', model_client=model_client)"
   ]
  },
  {
   "cell_type": "code",
   "execution_count": 11,
   "id": "f0467f59",
   "metadata": {},
   "outputs": [
    {
     "data": {
      "text/plain": [
       "TaskResult(messages=[TextMessage(id='0827eefd-59e5-4a9b-ab7f-15c68e312a1a', source='user', models_usage=None, metadata={}, created_at=datetime.datetime(2025, 7, 5, 13, 53, 34, 387245, tzinfo=datetime.timezone.utc), content='Tell me about you something', type='TextMessage'), TextMessage(id='0223da3a-86aa-4fc0-8e70-2564fd2b2f24', source='my_assistant', models_usage=RequestUsage(prompt_tokens=118, completion_tokens=76), metadata={}, created_at=datetime.datetime(2025, 7, 5, 13, 53, 36, 947653, tzinfo=datetime.timezone.utc), content=\"I'm here to assist you by answering questions, providing explanations, and helping with a variety of tasks. My capabilities include understanding natural language, gathering and synthesizing information, and offering support in different areas like education, technology, and more. My goal is to make tasks easier and provide helpful, accurate information. If you have any specific questions or need assistance, feel free to ask!\", type='TextMessage')], stop_reason=None)"
      ]
     },
     "execution_count": 11,
     "metadata": {},
     "output_type": "execute_result"
    }
   ],
   "source": [
    "result = await agent_1.run(task=\"Tell me about you something\")\n",
    "result"
   ]
  },
  {
   "cell_type": "code",
   "execution_count": 22,
   "id": "62d0b02a",
   "metadata": {},
   "outputs": [
    {
     "name": "stdout",
     "output_type": "stream",
     "text": [
      "TaskResult(messages=[TextMessage(id='103edce0-667a-4a3f-a395-5c618a7c5372', source='user', models_usage=None, metadata={}, created_at=datetime.datetime(2025, 7, 5, 13, 56, 51, 33022, tzinfo=datetime.timezone.utc), content='What was my last question?', type='TextMessage'), TextMessage(id='500301bd-5957-45a2-b09d-513f09cf3391', source='my_assistant', models_usage=RequestUsage(prompt_tokens=640, completion_tokens=24), metadata={}, created_at=datetime.datetime(2025, 7, 5, 13, 56, 51, 826588, tzinfo=datetime.timezone.utc), content='Your last question was, \"What was my last question?\" If you need any more help, feel free to ask!', type='TextMessage')], stop_reason=None)\n"
     ]
    }
   ],
   "source": [
    "import pprint\n",
    "result2 = await agent_1.run(task='What was my last question?')\n",
    "#pprint.pprint(result2)\n",
    "result2"
   ]
  },
  {
   "cell_type": "markdown",
   "id": "ba02c8ea",
   "metadata": {},
   "source": [
    "##### TaskResult(messages=[TextMessage(id='103edce0-667a-4a3f-a395-5c618a7c5372', source='user', models_usage=None, metadata={}, created_at=datetime.datetime(2025, 7, 5, 13, 56, 51, 33022, tzinfo=datetime.timezone.utc), content='What was my last question?', type='TextMessage'), TextMessage(id='500301bd-5957-45a2-b09d-513f09cf3391', source='my_assistant', models_usage=RequestUsage(prompt_tokens=640, completion_tokens=24), metadata={}, created_at=datetime.datetime(2025, 7, 5, 13, 56, 51, 826588, tzinfo=datetime.timezone.utc), content='Your last question was, \"What was my last question?\" If you need any more help, feel free to ask!', type='TextMessage')], stop_reason=None)"
   ]
  }
 ],
 "metadata": {
  "kernelspec": {
   "display_name": "vautogen",
   "language": "python",
   "name": "python3"
  },
  "language_info": {
   "codemirror_mode": {
    "name": "ipython",
    "version": 3
   },
   "file_extension": ".py",
   "mimetype": "text/x-python",
   "name": "python",
   "nbconvert_exporter": "python",
   "pygments_lexer": "ipython3",
   "version": "3.13.2"
  }
 },
 "nbformat": 4,
 "nbformat_minor": 5
}
