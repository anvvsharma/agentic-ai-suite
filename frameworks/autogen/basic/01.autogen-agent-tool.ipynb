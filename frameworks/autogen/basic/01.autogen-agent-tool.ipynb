{
 "cells": [
  {
   "cell_type": "markdown",
   "id": "f0209044",
   "metadata": {},
   "source": [
    "##### There are 3 types of Tools :\n",
    "\n",
    "1. Custom Functions\n",
    "2. Built In\n",
    "3. 3rd Party\n"
   ]
  },
  {
   "cell_type": "code",
   "execution_count": 2,
   "id": "c9daeaec",
   "metadata": {},
   "outputs": [
    {
     "data": {
      "text/plain": [
       "TaskResult(messages=[TextMessage(id='4461b25c-2aac-4c09-bdce-c4c8346c2bc5', source='user', models_usage=None, metadata={}, created_at=datetime.datetime(2025, 7, 6, 5, 54, 44, 879194, tzinfo=datetime.timezone.utc), content='Reverse the string \"Hello, World!\"', type='TextMessage'), ToolCallRequestEvent(id='d35e8427-f09e-4e0e-b293-eae81539eff1', source='ReverseStringAgent', models_usage=RequestUsage(prompt_tokens=79, completion_tokens=17), metadata={}, created_at=datetime.datetime(2025, 7, 6, 5, 54, 46, 853662, tzinfo=datetime.timezone.utc), content=[FunctionCall(id='call_RcajwDu5BS0MMCDywWn2DCi4', arguments='{\"text\":\"Hello, World!\"}', name='reverse_string')], type='ToolCallRequestEvent'), ToolCallExecutionEvent(id='60d30853-910f-4aed-ae52-ee388b3147d1', source='ReverseStringAgent', models_usage=None, metadata={}, created_at=datetime.datetime(2025, 7, 6, 5, 54, 46, 855271, tzinfo=datetime.timezone.utc), content=[FunctionExecutionResult(content='!dlroW ,olleH', name='reverse_string', call_id='call_RcajwDu5BS0MMCDywWn2DCi4', is_error=False)], type='ToolCallExecutionEvent'), ToolCallSummaryMessage(id='74980e5e-d77a-41ee-8e1b-f9d1b30956ec', source='ReverseStringAgent', models_usage=None, metadata={}, created_at=datetime.datetime(2025, 7, 6, 5, 54, 46, 855344, tzinfo=datetime.timezone.utc), content='!dlroW ,olleH', type='ToolCallSummaryMessage', tool_calls=[FunctionCall(id='call_RcajwDu5BS0MMCDywWn2DCi4', arguments='{\"text\":\"Hello, World!\"}', name='reverse_string')], results=[FunctionExecutionResult(content='!dlroW ,olleH', name='reverse_string', call_id='call_RcajwDu5BS0MMCDywWn2DCi4', is_error=False)])], stop_reason=None)"
      ]
     },
     "execution_count": 2,
     "metadata": {},
     "output_type": "execute_result"
    }
   ],
   "source": [
    "import asyncio\n",
    "from autogen_agentchat.agents import AssistantAgent\n",
    "from autogen_ext.models.openai import OpenAIChatCompletionClient\n",
    "from autogen_core.tools import FunctionTool\n",
    "import os\n",
    "from dotenv import load_dotenv\n",
    "\n",
    "# Load environment variables\n",
    "load_dotenv()\n",
    "api_key = os.getenv(\"OPENAI_API_KEY\")\n",
    "if not api_key:\n",
    "    raise ValueError(\"Please set the OPENAI_API_KEY environment variable.\")\n",
    "\n",
    "\n",
    "model_client=OpenAIChatCompletionClient(model='gpt-4o',api_key=api_key)\n",
    "\n",
    "def reverse_string(text: str) -> str:\n",
    "    '''\n",
    "    Reverse the given text\n",
    "\n",
    "    input:str\n",
    "\n",
    "    output:str\n",
    "\n",
    "    The reverse string is returned.\n",
    "    '''\n",
    "    return text[::-1]\n",
    "\n",
    "reverse_tool = FunctionTool(reverse_string,description='A tool to reverse a string')\n",
    "\n",
    "\n",
    "\n",
    "agent = AssistantAgent(\n",
    "    name=\"ReverseStringAgent\",\n",
    "    model_client= model_client,\n",
    "    system_message='You are a helpful assistant that can reverse string using reverse_string tool. Give the result with summary',\n",
    "    tools=[reverse_tool]\n",
    ")\n",
    "\n",
    "\n",
    "result = await agent.run(task = 'Reverse the string \"Hello, World!\"')\n",
    "result"
   ]
  }
 ],
 "metadata": {
  "kernelspec": {
   "display_name": "vautogen",
   "language": "python",
   "name": "python3"
  },
  "language_info": {
   "codemirror_mode": {
    "name": "ipython",
    "version": 3
   },
   "file_extension": ".py",
   "mimetype": "text/x-python",
   "name": "python",
   "nbconvert_exporter": "python",
   "pygments_lexer": "ipython3",
   "version": "3.13.2"
  }
 },
 "nbformat": 4,
 "nbformat_minor": 5
}
