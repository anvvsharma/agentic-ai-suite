{
 "cells": [
  {
   "cell_type": "markdown",
   "id": "e6ff6f48",
   "metadata": {},
   "source": [
    "1. Create a venv\n",
    "2. Create a requirements.next\n",
    "3. install autogen-agentchat "
   ]
  },
  {
   "cell_type": "code",
   "execution_count": null,
   "id": "a178a0ba",
   "metadata": {},
   "outputs": [],
   "source": [
    "pip install autogen-agentchat autogen-core autogen-ext tiktoken openai dotenv\n"
   ]
  },
  {
   "cell_type": "markdown",
   "id": "28a9f807",
   "metadata": {},
   "source": [
    "##### First Autogen Agent"
   ]
  },
  {
   "cell_type": "code",
   "execution_count": 33,
   "id": "3837eafb",
   "metadata": {},
   "outputs": [],
   "source": [
    "import os\n",
    "from autogen_agentchat.agents import AssistantAgent\n",
    "from autogen_ext.models.openai import OpenAIChatCompletionClient\n",
    "from dotenv import load_dotenv\n",
    "from autogen_core.models import UserMessage\n",
    "\n",
    "load_dotenv()\n",
    "\n",
    "openai_api_key = os.getenv('OPENAI_API_KEY')\n",
    "open_router_api_key = os.getenv('OPEN_ROUTER_API')\n",
    "google_api_key = os.getenv('GOOGLE_API_KEY')\n"
   ]
  },
  {
   "cell_type": "markdown",
   "id": "d9783fef",
   "metadata": {},
   "source": [
    "##### Connecting Open Router 'cypher-alpha' Model"
   ]
  },
  {
   "cell_type": "code",
   "execution_count": 13,
   "id": "b10b4d0b",
   "metadata": {},
   "outputs": [
    {
     "name": "stderr",
     "output_type": "stream",
     "text": [
      "/Users/anvvsharma/anvv/ws/agenticai/vautogen/lib/python3.13/site-packages/autogen_ext/models/openai/_openai_client.py:439: UserWarning: Missing required field 'structured_output' in ModelInfo. This field will be required in a future version of AutoGen.\n",
      "  validate_model_info(self._model_info)\n"
     ]
    },
    {
     "name": "stdout",
     "output_type": "stream",
     "text": [
      "finish_reason='stop' content=\"The capital of France is Paris. It's known for its iconic landmarks like the Eiffel Tower, historic architecture, and vibrant culture. Would you like more information about Paris or France in general?\" usage=RequestUsage(prompt_tokens=392, completion_tokens=39) cached=False logprobs=None thought=None\n"
     ]
    }
   ],
   "source": [
    "open_router_model_client =  OpenAIChatCompletionClient(\n",
    "    base_url=\"https://openrouter.ai/api/v1\",\n",
    "    model=\"openrouter/cypher-alpha:free\",\n",
    "    api_key = open_router_api_key,\n",
    "    model_info={\n",
    "        \"family\":'deepseek',\n",
    "        \"vision\" :True,\n",
    "        \"function_calling\":True,\n",
    "        \"json_output\": False\n",
    "    }\n",
    ")\n",
    "\n",
    "response = await open_router_model_client.create([UserMessage(content=\"What is the capital of France?\", source=\"user\")])\n",
    "\n",
    "print(response)"
   ]
  },
  {
   "cell_type": "markdown",
   "id": "a4843a7e",
   "metadata": {},
   "source": [
    "#####  Gemini Model"
   ]
  },
  {
   "cell_type": "code",
   "execution_count": 26,
   "id": "cc1771d0",
   "metadata": {},
   "outputs": [
    {
     "name": "stdout",
     "output_type": "stream",
     "text": [
      "finish_reason='stop' content='New Delhi\\n' usage=RequestUsage(prompt_tokens=7, completion_tokens=3) cached=False logprobs=None thought=None\n"
     ]
    }
   ],
   "source": [
    "\n",
    "from autogen_core.models import UserMessage\n",
    "from autogen_ext.models.openai import OpenAIChatCompletionClient\n",
    "\n",
    "model_client = OpenAIChatCompletionClient(model=\"gemini-1.5-flash-8b\",api_key=google_api_key,)\n",
    "response = await model_client.create([UserMessage(content=\"What is the capital of India?\", source=\"user\")])\n",
    "print(response)\n",
    "await model_client.close()"
   ]
  },
  {
   "cell_type": "code",
   "execution_count": null,
   "id": "f0467f59",
   "metadata": {},
   "outputs": [],
   "source": []
  },
  {
   "cell_type": "code",
   "execution_count": 36,
   "id": "62d0b02a",
   "metadata": {},
   "outputs": [
    {
     "name": "stdout",
     "output_type": "stream",
     "text": [
      "finish_reason='stop' content='The capital of India is New Delhi.' usage=RequestUsage(prompt_tokens=15, completion_tokens=8) cached=False logprobs=None thought=None\n"
     ]
    }
   ],
   "source": [
    "model_client = OpenAIChatCompletionClient(model=\"gpt-4o-mini\",api_key=openai_api_key,)\n",
    "response = await model_client.create([UserMessage(content=\"What is the capital of India?\", source=\"user\")])\n",
    "print(response)\n",
    "await model_client.close()"
   ]
  }
 ],
 "metadata": {
  "kernelspec": {
   "display_name": "vautogen",
   "language": "python",
   "name": "python3"
  },
  "language_info": {
   "codemirror_mode": {
    "name": "ipython",
    "version": 3
   },
   "file_extension": ".py",
   "mimetype": "text/x-python",
   "name": "python",
   "nbconvert_exporter": "python",
   "pygments_lexer": "ipython3",
   "version": "3.13.2"
  }
 },
 "nbformat": 4,
 "nbformat_minor": 5
}
