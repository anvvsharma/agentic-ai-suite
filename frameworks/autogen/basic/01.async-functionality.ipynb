{
 "cells": [
  {
   "cell_type": "markdown",
   "id": "eacc60eb",
   "metadata": {},
   "source": [
    "##### Async Funtionality"
   ]
  },
  {
   "cell_type": "code",
   "execution_count": 1,
   "id": "a2cf4888",
   "metadata": {},
   "outputs": [
    {
     "name": "stdout",
     "output_type": "stream",
     "text": [
      "Hello I am the first function\n",
      "Hellow i am the second function\n"
     ]
    }
   ],
   "source": [
    "def fun1():\n",
    "    print(\"Hello I am the first function\")\n",
    "\n",
    "def fun2():\n",
    "    print(\"Hellow i am the second function\") \n",
    "\n",
    "fun1()\n",
    "fun2()"
   ]
  },
  {
   "cell_type": "code",
   "execution_count": 2,
   "id": "cb92f863",
   "metadata": {},
   "outputs": [
    {
     "name": "stdout",
     "output_type": "stream",
     "text": [
      "Brewing Coffee\n",
      "Coffee Ready\n",
      "Toasing bagel\n",
      "bagel Ready\n",
      "Time: 1.010828 minutes\n"
     ]
    }
   ],
   "source": [
    "import time\n",
    "\n",
    "def brew_coffee():\n",
    "    print(\"Brewing Coffee\")\n",
    "    time.sleep(0.5)\n",
    "    print(\"Coffee Ready\")\n",
    "\n",
    "def toast_bagel():\n",
    "    print(\"Toasing bagel\")\n",
    "    time.sleep(0.5)\n",
    "    print(\"bagel Ready\")\n",
    "\n",
    "def main():\n",
    "    start = time.time()\n",
    "    coffee = brew_coffee()\n",
    "    bagel= toast_bagel()\n",
    "    end = time.time()\n",
    "\n",
    "    print(f\"Time: {end-start:2f} minutes\")\n",
    "\n",
    "\n",
    "main()"
   ]
  }
 ],
 "metadata": {
  "kernelspec": {
   "display_name": "vautogen",
   "language": "python",
   "name": "python3"
  },
  "language_info": {
   "codemirror_mode": {
    "name": "ipython",
    "version": 3
   },
   "file_extension": ".py",
   "mimetype": "text/x-python",
   "name": "python",
   "nbconvert_exporter": "python",
   "pygments_lexer": "ipython3",
   "version": "3.13.2"
  }
 },
 "nbformat": 4,
 "nbformat_minor": 5
}
